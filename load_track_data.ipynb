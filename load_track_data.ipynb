{
 "cells": [
  {
   "cell_type": "code",
   "execution_count": 3,
   "metadata": {
    "collapsed": true
   },
   "outputs": [],
   "source": [
    "import pickle\n",
    "import glob\n",
    "import pandas as pd"
   ]
  },
  {
   "cell_type": "code",
   "execution_count": 4,
   "metadata": {
    "collapsed": true
   },
   "outputs": [],
   "source": [
    "def combine_dfs(folders, file_names, group):\n",
    "    combined_df_list = []\n",
    "    for folder_id, feature_list in enumerate(folders):\n",
    "        combined_df = pd.DataFrame()\n",
    "        t6_features = feature_list\n",
    "        for i,temp_df in enumerate(t6_features):\n",
    "            temp_df['folder_id'] = folder_id\n",
    "            temp_df['file_id'] = i\n",
    "            temp_df['group'] = group\n",
    "            temp_df['cell_id'] = str(folder_id)+\"_\"+str(i)+\"_\"+group+\"_\"+temp_df['unique_cell_id'].astype(str)\n",
    "\n",
    "            df_length = len(temp_df.index.tolist())\n",
    "            if df_length > 5:\n",
    "                combined_df = pd.concat([combined_df, temp_df])\n",
    "        combined_df_list.append(combined_df)\n",
    "    return pd.concat(combined_df_list)\n"
   ]
  },
  {
   "cell_type": "code",
   "execution_count": 6,
   "metadata": {},
   "outputs": [],
   "source": [
    "example_files = glob.glob(\"./example_data/pickle_objs/t6_features.p\")\n",
    "tracks_example = combine_dfs([pickle.load(open(file_name, \"rb\")) for file_name in example_files], invivo_files, \"example\")"
   ]
  },
  {
   "cell_type": "code",
   "execution_count": null,
   "metadata": {
    "collapsed": true
   },
   "outputs": [],
   "source": [
    "tracks_example"
   ]
  }
 ],
 "metadata": {
  "kernelspec": {
   "display_name": "Python 3",
   "language": "python",
   "name": "python3"
  },
  "language_info": {
   "codemirror_mode": {
    "name": "ipython",
    "version": 3
   },
   "file_extension": ".py",
   "mimetype": "text/x-python",
   "name": "python",
   "nbconvert_exporter": "python",
   "pygments_lexer": "ipython3",
   "version": "3.6.0"
  }
 },
 "nbformat": 4,
 "nbformat_minor": 2
}
